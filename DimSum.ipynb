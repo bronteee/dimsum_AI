{
  "nbformat": 4,
  "nbformat_minor": 0,
  "metadata": {
    "colab": {
      "name": "DimSum.ipynb",
      "provenance": [],
      "authorship_tag": "ABX9TyPoRz1vOlIhfFBKJU9qnDfH",
      "include_colab_link": true
    },
    "kernelspec": {
      "name": "python3",
      "display_name": "Python 3"
    },
    "language_info": {
      "name": "python"
    },
    "widgets": {
      "application/vnd.jupyter.widget-state+json": {
        "55095183eaa942069a51847ca3279510": {
          "model_module": "@jupyter-widgets/controls",
          "model_name": "FileUploadModel",
          "model_module_version": "1.5.0",
          "state": {
            "_counter": 3,
            "_dom_classes": [],
            "_model_module": "@jupyter-widgets/controls",
            "_model_module_version": "1.5.0",
            "_model_name": "FileUploadModel",
            "_view_count": null,
            "_view_module": "@jupyter-widgets/controls",
            "_view_module_version": "1.5.0",
            "_view_name": "FileUploadView",
            "accept": "",
            "button_style": "",
            "data": [
              null
            ],
            "description": "Upload",
            "description_tooltip": null,
            "disabled": false,
            "error": "",
            "icon": "upload",
            "layout": "IPY_MODEL_08235cf6d07f45b1b87ecdf0997f5b77",
            "metadata": [
              {
                "name": "Xiaolongbao-breakfast.jpeg",
                "type": "image/jpeg",
                "size": 432712,
                "lastModified": 1652561176341
              }
            ],
            "multiple": false,
            "style": "IPY_MODEL_13a654542d894b9b91e932c68c8f5e3d"
          }
        },
        "08235cf6d07f45b1b87ecdf0997f5b77": {
          "model_module": "@jupyter-widgets/base",
          "model_name": "LayoutModel",
          "model_module_version": "1.2.0",
          "state": {
            "_model_module": "@jupyter-widgets/base",
            "_model_module_version": "1.2.0",
            "_model_name": "LayoutModel",
            "_view_count": null,
            "_view_module": "@jupyter-widgets/base",
            "_view_module_version": "1.2.0",
            "_view_name": "LayoutView",
            "align_content": null,
            "align_items": null,
            "align_self": null,
            "border": null,
            "bottom": null,
            "display": null,
            "flex": null,
            "flex_flow": null,
            "grid_area": null,
            "grid_auto_columns": null,
            "grid_auto_flow": null,
            "grid_auto_rows": null,
            "grid_column": null,
            "grid_gap": null,
            "grid_row": null,
            "grid_template_areas": null,
            "grid_template_columns": null,
            "grid_template_rows": null,
            "height": null,
            "justify_content": null,
            "justify_items": null,
            "left": null,
            "margin": null,
            "max_height": null,
            "max_width": null,
            "min_height": null,
            "min_width": null,
            "object_fit": null,
            "object_position": null,
            "order": null,
            "overflow": null,
            "overflow_x": null,
            "overflow_y": null,
            "padding": null,
            "right": null,
            "top": null,
            "visibility": null,
            "width": null
          }
        },
        "13a654542d894b9b91e932c68c8f5e3d": {
          "model_module": "@jupyter-widgets/controls",
          "model_name": "ButtonStyleModel",
          "model_module_version": "1.5.0",
          "state": {
            "_model_module": "@jupyter-widgets/controls",
            "_model_module_version": "1.5.0",
            "_model_name": "ButtonStyleModel",
            "_view_count": null,
            "_view_module": "@jupyter-widgets/base",
            "_view_module_version": "1.2.0",
            "_view_name": "StyleView",
            "button_color": null,
            "font_weight": ""
          }
        },
        "25474097d1e34f1d91feeeeb9dd0d3f2": {
          "model_module": "@jupyter-widgets/controls",
          "model_name": "VBoxModel",
          "model_module_version": "1.5.0",
          "state": {
            "_dom_classes": [],
            "_model_module": "@jupyter-widgets/controls",
            "_model_module_version": "1.5.0",
            "_model_name": "VBoxModel",
            "_view_count": null,
            "_view_module": "@jupyter-widgets/controls",
            "_view_module_version": "1.5.0",
            "_view_name": "VBoxView",
            "box_style": "",
            "children": [
              "IPY_MODEL_16672febeffe425b93f77cc76657def2",
              "IPY_MODEL_55095183eaa942069a51847ca3279510",
              "IPY_MODEL_9b851ca4ce954d27b23e912d818fcf83",
              "IPY_MODEL_6051de82a90341eabd610d52afc585ea",
              "IPY_MODEL_1fb2236eef964964b2f3aacb0282cc6e"
            ],
            "layout": "IPY_MODEL_3a5b341c927c4be38d92ea79c08eb495"
          }
        },
        "16672febeffe425b93f77cc76657def2": {
          "model_module": "@jupyter-widgets/controls",
          "model_name": "LabelModel",
          "model_module_version": "1.5.0",
          "state": {
            "_dom_classes": [],
            "_model_module": "@jupyter-widgets/controls",
            "_model_module_version": "1.5.0",
            "_model_name": "LabelModel",
            "_view_count": null,
            "_view_module": "@jupyter-widgets/controls",
            "_view_module_version": "1.5.0",
            "_view_name": "LabelView",
            "description": "",
            "description_tooltip": null,
            "layout": "IPY_MODEL_88d9127b1dc146f39094912d5e4a1622",
            "placeholder": "​",
            "style": "IPY_MODEL_0ebb94cc1d534d6db28b64c1dc142203",
            "value": "What is this dim sum called???"
          }
        },
        "9b851ca4ce954d27b23e912d818fcf83": {
          "model_module": "@jupyter-widgets/controls",
          "model_name": "ButtonModel",
          "model_module_version": "1.5.0",
          "state": {
            "_dom_classes": [],
            "_model_module": "@jupyter-widgets/controls",
            "_model_module_version": "1.5.0",
            "_model_name": "ButtonModel",
            "_view_count": null,
            "_view_module": "@jupyter-widgets/controls",
            "_view_module_version": "1.5.0",
            "_view_name": "ButtonView",
            "button_style": "",
            "description": "Classify",
            "disabled": false,
            "icon": "",
            "layout": "IPY_MODEL_ce94d461ef2b4de9a1716a6d2f0d61ea",
            "style": "IPY_MODEL_a1ec214853004693aad500ba32e81b93",
            "tooltip": ""
          }
        },
        "6051de82a90341eabd610d52afc585ea": {
          "model_module": "@jupyter-widgets/output",
          "model_name": "OutputModel",
          "model_module_version": "1.0.0",
          "state": {
            "_dom_classes": [],
            "_model_module": "@jupyter-widgets/output",
            "_model_module_version": "1.0.0",
            "_model_name": "OutputModel",
            "_view_count": null,
            "_view_module": "@jupyter-widgets/output",
            "_view_module_version": "1.0.0",
            "_view_name": "OutputView",
            "layout": "IPY_MODEL_3677ab36417c4d999810b6e72425d831",
            "msg_id": "",
            "outputs": [
              {
                "output_type": "display_data",
                "data": {
                  "text/plain": "<PIL.Image.Image image mode=RGB size=128x85 at 0x7F367FC86D10>",
                  "image/png": "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\n"
                },
                "metadata": {}
              }
            ]
          }
        },
        "1fb2236eef964964b2f3aacb0282cc6e": {
          "model_module": "@jupyter-widgets/controls",
          "model_name": "LabelModel",
          "model_module_version": "1.5.0",
          "state": {
            "_dom_classes": [],
            "_model_module": "@jupyter-widgets/controls",
            "_model_module_version": "1.5.0",
            "_model_name": "LabelModel",
            "_view_count": null,
            "_view_module": "@jupyter-widgets/controls",
            "_view_module_version": "1.5.0",
            "_view_name": "LabelView",
            "description": "",
            "description_tooltip": null,
            "layout": "IPY_MODEL_77dc05f431424f3b96e67c48af62ee99",
            "placeholder": "​",
            "style": "IPY_MODEL_01f4781fd00a43e5a3515e339c9cd450",
            "value": "Prediction from your friendly neighborhood dim sum AI: xiao long bao; Probability: 0.8951"
          }
        },
        "3a5b341c927c4be38d92ea79c08eb495": {
          "model_module": "@jupyter-widgets/base",
          "model_name": "LayoutModel",
          "model_module_version": "1.2.0",
          "state": {
            "_model_module": "@jupyter-widgets/base",
            "_model_module_version": "1.2.0",
            "_model_name": "LayoutModel",
            "_view_count": null,
            "_view_module": "@jupyter-widgets/base",
            "_view_module_version": "1.2.0",
            "_view_name": "LayoutView",
            "align_content": null,
            "align_items": null,
            "align_self": null,
            "border": null,
            "bottom": null,
            "display": null,
            "flex": null,
            "flex_flow": null,
            "grid_area": null,
            "grid_auto_columns": null,
            "grid_auto_flow": null,
            "grid_auto_rows": null,
            "grid_column": null,
            "grid_gap": null,
            "grid_row": null,
            "grid_template_areas": null,
            "grid_template_columns": null,
            "grid_template_rows": null,
            "height": null,
            "justify_content": null,
            "justify_items": null,
            "left": null,
            "margin": null,
            "max_height": null,
            "max_width": null,
            "min_height": null,
            "min_width": null,
            "object_fit": null,
            "object_position": null,
            "order": null,
            "overflow": null,
            "overflow_x": null,
            "overflow_y": null,
            "padding": null,
            "right": null,
            "top": null,
            "visibility": null,
            "width": null
          }
        },
        "88d9127b1dc146f39094912d5e4a1622": {
          "model_module": "@jupyter-widgets/base",
          "model_name": "LayoutModel",
          "model_module_version": "1.2.0",
          "state": {
            "_model_module": "@jupyter-widgets/base",
            "_model_module_version": "1.2.0",
            "_model_name": "LayoutModel",
            "_view_count": null,
            "_view_module": "@jupyter-widgets/base",
            "_view_module_version": "1.2.0",
            "_view_name": "LayoutView",
            "align_content": null,
            "align_items": null,
            "align_self": null,
            "border": null,
            "bottom": null,
            "display": null,
            "flex": null,
            "flex_flow": null,
            "grid_area": null,
            "grid_auto_columns": null,
            "grid_auto_flow": null,
            "grid_auto_rows": null,
            "grid_column": null,
            "grid_gap": null,
            "grid_row": null,
            "grid_template_areas": null,
            "grid_template_columns": null,
            "grid_template_rows": null,
            "height": null,
            "justify_content": null,
            "justify_items": null,
            "left": null,
            "margin": null,
            "max_height": null,
            "max_width": null,
            "min_height": null,
            "min_width": null,
            "object_fit": null,
            "object_position": null,
            "order": null,
            "overflow": null,
            "overflow_x": null,
            "overflow_y": null,
            "padding": null,
            "right": null,
            "top": null,
            "visibility": null,
            "width": null
          }
        },
        "0ebb94cc1d534d6db28b64c1dc142203": {
          "model_module": "@jupyter-widgets/controls",
          "model_name": "DescriptionStyleModel",
          "model_module_version": "1.5.0",
          "state": {
            "_model_module": "@jupyter-widgets/controls",
            "_model_module_version": "1.5.0",
            "_model_name": "DescriptionStyleModel",
            "_view_count": null,
            "_view_module": "@jupyter-widgets/base",
            "_view_module_version": "1.2.0",
            "_view_name": "StyleView",
            "description_width": ""
          }
        },
        "ce94d461ef2b4de9a1716a6d2f0d61ea": {
          "model_module": "@jupyter-widgets/base",
          "model_name": "LayoutModel",
          "model_module_version": "1.2.0",
          "state": {
            "_model_module": "@jupyter-widgets/base",
            "_model_module_version": "1.2.0",
            "_model_name": "LayoutModel",
            "_view_count": null,
            "_view_module": "@jupyter-widgets/base",
            "_view_module_version": "1.2.0",
            "_view_name": "LayoutView",
            "align_content": null,
            "align_items": null,
            "align_self": null,
            "border": null,
            "bottom": null,
            "display": null,
            "flex": null,
            "flex_flow": null,
            "grid_area": null,
            "grid_auto_columns": null,
            "grid_auto_flow": null,
            "grid_auto_rows": null,
            "grid_column": null,
            "grid_gap": null,
            "grid_row": null,
            "grid_template_areas": null,
            "grid_template_columns": null,
            "grid_template_rows": null,
            "height": null,
            "justify_content": null,
            "justify_items": null,
            "left": null,
            "margin": null,
            "max_height": null,
            "max_width": null,
            "min_height": null,
            "min_width": null,
            "object_fit": null,
            "object_position": null,
            "order": null,
            "overflow": null,
            "overflow_x": null,
            "overflow_y": null,
            "padding": null,
            "right": null,
            "top": null,
            "visibility": null,
            "width": null
          }
        },
        "a1ec214853004693aad500ba32e81b93": {
          "model_module": "@jupyter-widgets/controls",
          "model_name": "ButtonStyleModel",
          "model_module_version": "1.5.0",
          "state": {
            "_model_module": "@jupyter-widgets/controls",
            "_model_module_version": "1.5.0",
            "_model_name": "ButtonStyleModel",
            "_view_count": null,
            "_view_module": "@jupyter-widgets/base",
            "_view_module_version": "1.2.0",
            "_view_name": "StyleView",
            "button_color": null,
            "font_weight": ""
          }
        },
        "77dc05f431424f3b96e67c48af62ee99": {
          "model_module": "@jupyter-widgets/base",
          "model_name": "LayoutModel",
          "model_module_version": "1.2.0",
          "state": {
            "_model_module": "@jupyter-widgets/base",
            "_model_module_version": "1.2.0",
            "_model_name": "LayoutModel",
            "_view_count": null,
            "_view_module": "@jupyter-widgets/base",
            "_view_module_version": "1.2.0",
            "_view_name": "LayoutView",
            "align_content": null,
            "align_items": null,
            "align_self": null,
            "border": null,
            "bottom": null,
            "display": null,
            "flex": null,
            "flex_flow": null,
            "grid_area": null,
            "grid_auto_columns": null,
            "grid_auto_flow": null,
            "grid_auto_rows": null,
            "grid_column": null,
            "grid_gap": null,
            "grid_row": null,
            "grid_template_areas": null,
            "grid_template_columns": null,
            "grid_template_rows": null,
            "height": null,
            "justify_content": null,
            "justify_items": null,
            "left": null,
            "margin": null,
            "max_height": null,
            "max_width": null,
            "min_height": null,
            "min_width": null,
            "object_fit": null,
            "object_position": null,
            "order": null,
            "overflow": null,
            "overflow_x": null,
            "overflow_y": null,
            "padding": null,
            "right": null,
            "top": null,
            "visibility": null,
            "width": null
          }
        },
        "01f4781fd00a43e5a3515e339c9cd450": {
          "model_module": "@jupyter-widgets/controls",
          "model_name": "DescriptionStyleModel",
          "model_module_version": "1.5.0",
          "state": {
            "_model_module": "@jupyter-widgets/controls",
            "_model_module_version": "1.5.0",
            "_model_name": "DescriptionStyleModel",
            "_view_count": null,
            "_view_module": "@jupyter-widgets/base",
            "_view_module_version": "1.2.0",
            "_view_name": "StyleView",
            "description_width": ""
          }
        },
        "3677ab36417c4d999810b6e72425d831": {
          "model_module": "@jupyter-widgets/base",
          "model_name": "LayoutModel",
          "model_module_version": "1.2.0",
          "state": {
            "_model_module": "@jupyter-widgets/base",
            "_model_module_version": "1.2.0",
            "_model_name": "LayoutModel",
            "_view_count": null,
            "_view_module": "@jupyter-widgets/base",
            "_view_module_version": "1.2.0",
            "_view_name": "LayoutView",
            "align_content": null,
            "align_items": null,
            "align_self": null,
            "border": null,
            "bottom": null,
            "display": null,
            "flex": null,
            "flex_flow": null,
            "grid_area": null,
            "grid_auto_columns": null,
            "grid_auto_flow": null,
            "grid_auto_rows": null,
            "grid_column": null,
            "grid_gap": null,
            "grid_row": null,
            "grid_template_areas": null,
            "grid_template_columns": null,
            "grid_template_rows": null,
            "height": null,
            "justify_content": null,
            "justify_items": null,
            "left": null,
            "margin": null,
            "max_height": null,
            "max_width": null,
            "min_height": null,
            "min_width": null,
            "object_fit": null,
            "object_position": null,
            "order": null,
            "overflow": null,
            "overflow_x": null,
            "overflow_y": null,
            "padding": null,
            "right": null,
            "top": null,
            "visibility": null,
            "width": null
          }
        }
      }
    }
  },
  "cells": [
    {
      "cell_type": "markdown",
      "metadata": {
        "id": "view-in-github",
        "colab_type": "text"
      },
      "source": [
        "<a href=\"https://colab.research.google.com/github/bronteee/dimsum_AI/blob/main/DimSum.ipynb\" target=\"_parent\"><img src=\"https://colab.research.google.com/assets/colab-badge.svg\" alt=\"Open In Colab\"/></a>"
      ]
    },
    {
      "cell_type": "code",
      "source": [
        "# Install and setup fastbook\n",
        "! [ -e /content ] && pip install -Uqq fastbook\n",
        "import fastbook\n",
        "fastbook.setup_book()\n",
        "\n",
        "#import fastAI\n",
        "from fastbook import *\n",
        "from fastai.vision.widgets import *"
      ],
      "metadata": {
        "colab": {
          "base_uri": "https://localhost:8080/"
        },
        "id": "M01G7-CcQlx8",
        "outputId": "787b7cea-0748-4073-eb12-5457e536afdf"
      },
      "execution_count": 1,
      "outputs": [
        {
          "output_type": "stream",
          "name": "stdout",
          "text": [
            "\u001b[K     |████████████████████████████████| 719 kB 4.0 MB/s \n",
            "\u001b[K     |████████████████████████████████| 197 kB 54.3 MB/s \n",
            "\u001b[K     |████████████████████████████████| 1.2 MB 48.8 MB/s \n",
            "\u001b[K     |████████████████████████████████| 60 kB 7.2 MB/s \n",
            "\u001b[?25hMounted at /content/gdrive\n"
          ]
        }
      ]
    },
    {
      "cell_type": "code",
      "source": [
        "!pip install voila\n",
        "!jupyter serverextension enable --sys-prefix voila"
      ],
      "metadata": {
        "id": "H_IS_LoJhGa3"
      },
      "execution_count": null,
      "outputs": []
    },
    {
      "cell_type": "code",
      "source": [
        "# check if file exists\n",
        "path = Path()\n",
        "path.ls(file_exts='.pkl')"
      ],
      "metadata": {
        "colab": {
          "base_uri": "https://localhost:8080/"
        },
        "id": "4DDGUdG4RNhU",
        "outputId": "be2d3509-1830-4c7b-957f-91e52483156d"
      },
      "execution_count": 2,
      "outputs": [
        {
          "output_type": "execute_result",
          "data": {
            "text/plain": [
              "(#1) [Path('export_dimsum.pkl')]"
            ]
          },
          "metadata": {},
          "execution_count": 2
        }
      ]
    },
    {
      "cell_type": "code",
      "execution_count": 3,
      "metadata": {
        "id": "Vdgvk0lDQOIe"
      },
      "outputs": [],
      "source": [
        "# load model to make inference\n",
        "learn_inf = load_learner(path/'export_dimsum.pkl')"
      ]
    },
    {
      "cell_type": "code",
      "source": [
        "btn_upload = widgets.FileUpload()\n",
        "btn_upload"
      ],
      "metadata": {
        "colab": {
          "base_uri": "https://localhost:8080/",
          "height": 49,
          "referenced_widgets": [
            "55095183eaa942069a51847ca3279510",
            "08235cf6d07f45b1b87ecdf0997f5b77",
            "13a654542d894b9b91e932c68c8f5e3d"
          ]
        },
        "id": "cq0LPag4RbqA",
        "outputId": "e5140753-eaba-4b1c-af7a-77f657dd7184"
      },
      "execution_count": 4,
      "outputs": [
        {
          "output_type": "display_data",
          "data": {
            "text/plain": [
              "FileUpload(value={}, description='Upload')"
            ],
            "application/vnd.jupyter.widget-view+json": {
              "version_major": 2,
              "version_minor": 0,
              "model_id": "55095183eaa942069a51847ca3279510"
            }
          },
          "metadata": {}
        }
      ]
    },
    {
      "cell_type": "code",
      "source": [
        "out_pl = widgets.Output()"
      ],
      "metadata": {
        "id": "BbNdI1DtThi6"
      },
      "execution_count": 5,
      "outputs": []
    },
    {
      "cell_type": "code",
      "source": [
        "btn_run = widgets.Button(description='Classify')"
      ],
      "metadata": {
        "id": "se-B5b2PUOrP"
      },
      "execution_count": 8,
      "outputs": []
    },
    {
      "cell_type": "code",
      "source": [
        "def on_click_classify(change):\n",
        "    img = PILImage.create(btn_upload.data[-1])\n",
        "    out_pl.clear_output()\n",
        "    with out_pl: display(img.to_thumb(128,128))\n",
        "    pred,pred_idx,probs = learn_inf.predict(img)\n",
        "    lbl_pred.value = f'Prediction from your friendly neighborhood dim sum AI: {pred}; Probability: {probs[pred_idx]:.04f}'\n",
        "\n",
        "btn_run.on_click(on_click_classify)"
      ],
      "metadata": {
        "id": "5GQZbXaMUMK7"
      },
      "execution_count": 14,
      "outputs": []
    },
    {
      "cell_type": "code",
      "source": [
        "VBox([widgets.Label('What is this dim sum called???'),\n",
        "      btn_upload, btn_run, out_pl, lbl_pred])"
      ],
      "metadata": {
        "colab": {
          "base_uri": "https://localhost:8080/",
          "height": 230,
          "referenced_widgets": [
            "25474097d1e34f1d91feeeeb9dd0d3f2",
            "16672febeffe425b93f77cc76657def2",
            "55095183eaa942069a51847ca3279510",
            "9b851ca4ce954d27b23e912d818fcf83",
            "6051de82a90341eabd610d52afc585ea",
            "1fb2236eef964964b2f3aacb0282cc6e",
            "3a5b341c927c4be38d92ea79c08eb495",
            "88d9127b1dc146f39094912d5e4a1622",
            "0ebb94cc1d534d6db28b64c1dc142203",
            "08235cf6d07f45b1b87ecdf0997f5b77",
            "13a654542d894b9b91e932c68c8f5e3d",
            "ce94d461ef2b4de9a1716a6d2f0d61ea",
            "a1ec214853004693aad500ba32e81b93",
            "77dc05f431424f3b96e67c48af62ee99",
            "01f4781fd00a43e5a3515e339c9cd450",
            "3677ab36417c4d999810b6e72425d831"
          ]
        },
        "id": "Y1whpo-VUXN7",
        "outputId": "1effe1f5-e7b2-4a17-e381-84084ad40ae8"
      },
      "execution_count": 16,
      "outputs": [
        {
          "output_type": "display_data",
          "data": {
            "text/plain": [
              "VBox(children=(Label(value='What is this dim sum called???'), FileUpload(value={'Xiaolongbao-breakfast.jpeg': …"
            ],
            "application/vnd.jupyter.widget-view+json": {
              "version_major": 2,
              "version_minor": 0,
              "model_id": "25474097d1e34f1d91feeeeb9dd0d3f2"
            }
          },
          "metadata": {}
        },
        {
          "output_type": "display_data",
          "data": {
            "text/plain": [
              "<IPython.core.display.HTML object>"
            ],
            "text/html": [
              "\n",
              "<style>\n",
              "    /* Turns off some styling */\n",
              "    progress {\n",
              "        /* gets rid of default border in Firefox and Opera. */\n",
              "        border: none;\n",
              "        /* Needs to be in here for Safari polyfill so background images work as expected. */\n",
              "        background-size: auto;\n",
              "    }\n",
              "    .progress-bar-interrupted, .progress-bar-interrupted::-webkit-progress-bar {\n",
              "        background: #F44336;\n",
              "    }\n",
              "</style>\n"
            ]
          },
          "metadata": {}
        },
        {
          "output_type": "display_data",
          "data": {
            "text/plain": [
              "<IPython.core.display.HTML object>"
            ],
            "text/html": [
              ""
            ]
          },
          "metadata": {}
        },
        {
          "output_type": "display_data",
          "data": {
            "text/plain": [
              "<IPython.core.display.HTML object>"
            ],
            "text/html": [
              "\n",
              "<style>\n",
              "    /* Turns off some styling */\n",
              "    progress {\n",
              "        /* gets rid of default border in Firefox and Opera. */\n",
              "        border: none;\n",
              "        /* Needs to be in here for Safari polyfill so background images work as expected. */\n",
              "        background-size: auto;\n",
              "    }\n",
              "    .progress-bar-interrupted, .progress-bar-interrupted::-webkit-progress-bar {\n",
              "        background: #F44336;\n",
              "    }\n",
              "</style>\n"
            ]
          },
          "metadata": {}
        },
        {
          "output_type": "display_data",
          "data": {
            "text/plain": [
              "<IPython.core.display.HTML object>"
            ],
            "text/html": [
              ""
            ]
          },
          "metadata": {}
        },
        {
          "output_type": "display_data",
          "data": {
            "text/plain": [
              "<IPython.core.display.HTML object>"
            ],
            "text/html": [
              "\n",
              "<style>\n",
              "    /* Turns off some styling */\n",
              "    progress {\n",
              "        /* gets rid of default border in Firefox and Opera. */\n",
              "        border: none;\n",
              "        /* Needs to be in here for Safari polyfill so background images work as expected. */\n",
              "        background-size: auto;\n",
              "    }\n",
              "    .progress-bar-interrupted, .progress-bar-interrupted::-webkit-progress-bar {\n",
              "        background: #F44336;\n",
              "    }\n",
              "</style>\n"
            ]
          },
          "metadata": {}
        },
        {
          "output_type": "display_data",
          "data": {
            "text/plain": [
              "<IPython.core.display.HTML object>"
            ],
            "text/html": [
              ""
            ]
          },
          "metadata": {}
        },
        {
          "output_type": "display_data",
          "data": {
            "text/plain": [
              "<IPython.core.display.HTML object>"
            ],
            "text/html": [
              "\n",
              "<style>\n",
              "    /* Turns off some styling */\n",
              "    progress {\n",
              "        /* gets rid of default border in Firefox and Opera. */\n",
              "        border: none;\n",
              "        /* Needs to be in here for Safari polyfill so background images work as expected. */\n",
              "        background-size: auto;\n",
              "    }\n",
              "    .progress-bar-interrupted, .progress-bar-interrupted::-webkit-progress-bar {\n",
              "        background: #F44336;\n",
              "    }\n",
              "</style>\n"
            ]
          },
          "metadata": {}
        },
        {
          "output_type": "display_data",
          "data": {
            "text/plain": [
              "<IPython.core.display.HTML object>"
            ],
            "text/html": [
              ""
            ]
          },
          "metadata": {}
        }
      ]
    }
  ]
}